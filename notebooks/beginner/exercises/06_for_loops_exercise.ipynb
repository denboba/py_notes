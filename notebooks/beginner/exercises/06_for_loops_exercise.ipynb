{
  "cells": [
    {
      "cell_type": "markdown",
      "metadata": {
        "id": "Nz59lmO4BSV-"
      },
      "source": [
        "# 1. Fill the missing pieces\n",
        "Fill the `____` parts in the code below."
      ]
    },
    {
      "cell_type": "code",
      "execution_count": 1,
      "metadata": {
        "id": "zwy_9JatBSWC"
      },
      "outputs": [],
      "source": [
        "words = [\"PYTHON\", \"JOHN\", \"chEEse\", \"hAm\", \"DOE\", \"123\"]\n",
        "upper_case_words = []\n",
        "\n",
        "for word in words:\n",
        "    if word.isupper():\n",
        "        upper_case_words.append(word)"
      ]
    },
    {
      "cell_type": "code",
      "execution_count": 2,
      "metadata": {
        "editable": false,
        "id": "tj51VvXeBSWD"
      },
      "outputs": [],
      "source": [
        "assert upper_case_words == [\"PYTHON\", \"JOHN\", \"DOE\"]"
      ]
    },
    {
      "cell_type": "markdown",
      "metadata": {
        "id": "rZqSdRY1BSWD"
      },
      "source": [
        "# 2. Calculate the sum of dict values\n",
        "Calculate the sum of the values in `magic_dict` by taking only into account numeric values (hint: see [isinstance](https://docs.python.org/3/library/functions.html#isinstance))."
      ]
    },
    {
      "cell_type": "code",
      "execution_count": 4,
      "metadata": {
        "editable": false,
        "id": "4JEqWRCaBSWE"
      },
      "outputs": [],
      "source": [
        "magic_dict = dict(val1=44, val2=\"secret value\", val3=55.0, val4=1)"
      ]
    },
    {
      "cell_type": "code",
      "execution_count": 16,
      "metadata": {
        "id": "Wj55MI1SBSWE",
        "outputId": "81ff8706-159e-4fc0-d78c-f5d455cd56c8",
        "colab": {
          "base_uri": "https://localhost:8080/"
        }
      },
      "outputs": [
        {
          "output_type": "stream",
          "name": "stdout",
          "text": [
            "100\n"
          ]
        }
      ],
      "source": [
        "# Your implementation\n",
        "sum_of_values =int(sum([j for (i,j) in magic_dict.items() if type(j) != str]))\n",
        "print(sum_of_values)"
      ]
    },
    {
      "cell_type": "code",
      "execution_count": 17,
      "metadata": {
        "editable": false,
        "id": "fTYJ71VNBSWE"
      },
      "outputs": [],
      "source": [
        "assert sum_of_values == 100"
      ]
    },
    {
      "cell_type": "markdown",
      "metadata": {
        "id": "Nb7N6DvxBSWF"
      },
      "source": [
        "# 3. Create a list of strings based on a list of numbers\n",
        "The rules:\n",
        "* If the number is a multiple of five and odd, the string should be `'five odd'`\n",
        "* If the number is a multiple of five and even, the string should be `'five even'`\n",
        "* If the number is odd, the string is `'odd'`\n",
        "* If the number is even, the string is `'even'`"
      ]
    },
    {
      "cell_type": "code",
      "execution_count": 19,
      "metadata": {
        "editable": false,
        "id": "3Q9FeYPQBSWF"
      },
      "outputs": [],
      "source": [
        "numbers = [1, 3, 4, 6, 81, 80, 100, 95]"
      ]
    },
    {
      "cell_type": "code",
      "execution_count": 24,
      "metadata": {
        "id": "Q7IP1cEUBSWG",
        "outputId": "2dd96b4d-d6ca-49b7-8e0e-1c6020f72aba",
        "colab": {
          "base_uri": "https://localhost:8080/"
        }
      },
      "outputs": [
        {
          "output_type": "stream",
          "name": "stdout",
          "text": [
            "['odd', 'odd', 'even', 'even', 'odd', 'five even', 'five even', 'five odd']\n"
          ]
        }
      ],
      "source": [
        "# Your implementation\n",
        "my_list = [\"five even\" if (i%2 == 0 and i%5==0) else \"five odd\" if (i%2 !=0 and i%5==0) else \"even\" if i%2 == 0 else \"odd\"  for i in numbers]\n",
        "print(my_list)"
      ]
    },
    {
      "cell_type": "code",
      "execution_count": 25,
      "metadata": {
        "editable": false,
        "id": "54WnXSteBSWG"
      },
      "outputs": [],
      "source": [
        "assert my_list == [\n",
        "    \"odd\",\n",
        "    \"odd\",\n",
        "    \"even\",\n",
        "    \"even\",\n",
        "    \"odd\",\n",
        "    \"five even\",\n",
        "    \"five even\",\n",
        "    \"five odd\",\n",
        "]"
      ]
    }
  ],
  "metadata": {
    "kernelspec": {
      "display_name": "Python 3 (ipykernel)",
      "language": "python",
      "name": "python3"
    },
    "language_info": {
      "codemirror_mode": {
        "name": "ipython",
        "version": 3
      },
      "file_extension": ".py",
      "mimetype": "text/x-python",
      "name": "python",
      "nbconvert_exporter": "python",
      "pygments_lexer": "ipython3",
      "version": "3.11.0"
    },
    "colab": {
      "provenance": []
    }
  },
  "nbformat": 4,
  "nbformat_minor": 0
}